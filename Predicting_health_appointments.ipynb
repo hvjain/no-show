![Capture1](https://user-images.githubusercontent.com/51827368/59519372-55d22080-8ee5-11e9-9d39-1b6a8285c31a.PNG)
