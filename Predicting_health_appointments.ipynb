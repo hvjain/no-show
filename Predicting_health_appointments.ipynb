Project: Investigate No Show appointments
Table of Contents

   Introduction
   Data Wrangling
   Exploratory Data Analysis
   Conclusions

Introduction
This dataset collects information from 100k medical appointments in Brazil and is focused on the question of whether or not patients show up for their appointment. This will be achieved from the following factors, mentioning a few;

Neighborhood
Location of hospital
Scholarship
Appointment date
The following questions are asked;

What factor made people show up?

Is their a particular illness that makes the patient to likely show up?
